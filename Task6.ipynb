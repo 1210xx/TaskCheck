{
 "cells": [
  {
   "cell_type": "markdown",
   "metadata": {},
   "source": [
    "# task6 Pandas 教程（上）综合练习"
   ]
  },
  {
   "cell_type": "code",
   "execution_count": 1,
   "metadata": {},
   "outputs": [],
   "source": [
    "import pandas as pd\n",
    "import numpy as numpy"
   ]
  },
  {
   "cell_type": "markdown",
   "metadata": {},
   "source": [
    "## 一、2002 年-2018 年上海机动车拍照拍卖\n"
   ]
  },
  {
   "cell_type": "code",
   "execution_count": 4,
   "metadata": {},
   "outputs": [
    {
     "data": {
      "text/html": [
       "<div>\n",
       "<style scoped>\n",
       "    .dataframe tbody tr th:only-of-type {\n",
       "        vertical-align: middle;\n",
       "    }\n",
       "\n",
       "    .dataframe tbody tr th {\n",
       "        vertical-align: top;\n",
       "    }\n",
       "\n",
       "    .dataframe thead th {\n",
       "        text-align: right;\n",
       "    }\n",
       "</style>\n",
       "<table border=\"1\" class=\"dataframe\">\n",
       "  <thead>\n",
       "    <tr style=\"text-align: right;\">\n",
       "      <th></th>\n",
       "      <th>Date</th>\n",
       "      <th>Total number of license issued</th>\n",
       "      <th>lowest price</th>\n",
       "      <th>avg price</th>\n",
       "      <th>Total number of applicants</th>\n",
       "    </tr>\n",
       "  </thead>\n",
       "  <tbody>\n",
       "    <tr>\n",
       "      <th>0</th>\n",
       "      <td>2-Jan</td>\n",
       "      <td>1400</td>\n",
       "      <td>13600</td>\n",
       "      <td>14735</td>\n",
       "      <td>3718</td>\n",
       "    </tr>\n",
       "    <tr>\n",
       "      <th>1</th>\n",
       "      <td>2-Feb</td>\n",
       "      <td>1800</td>\n",
       "      <td>13100</td>\n",
       "      <td>14057</td>\n",
       "      <td>4590</td>\n",
       "    </tr>\n",
       "    <tr>\n",
       "      <th>2</th>\n",
       "      <td>2-Mar</td>\n",
       "      <td>2000</td>\n",
       "      <td>14300</td>\n",
       "      <td>14662</td>\n",
       "      <td>5190</td>\n",
       "    </tr>\n",
       "    <tr>\n",
       "      <th>3</th>\n",
       "      <td>2-Apr</td>\n",
       "      <td>2300</td>\n",
       "      <td>16000</td>\n",
       "      <td>16334</td>\n",
       "      <td>4806</td>\n",
       "    </tr>\n",
       "    <tr>\n",
       "      <th>4</th>\n",
       "      <td>2-May</td>\n",
       "      <td>2350</td>\n",
       "      <td>17800</td>\n",
       "      <td>18357</td>\n",
       "      <td>4665</td>\n",
       "    </tr>\n",
       "  </tbody>\n",
       "</table>\n",
       "</div>"
      ],
      "text/plain": [
       "    Date  Total number of license issued  lowest price   avg price  \\\n",
       "0  2-Jan                            1400          13600      14735   \n",
       "1  2-Feb                            1800          13100      14057   \n",
       "2  2-Mar                            2000          14300      14662   \n",
       "3  2-Apr                            2300          16000      16334   \n",
       "4  2-May                            2350          17800      18357   \n",
       "\n",
       "   Total number of applicants  \n",
       "0                        3718  \n",
       "1                        4590  \n",
       "2                        5190  \n",
       "3                        4806  \n",
       "4                        4665  "
      ]
     },
     "execution_count": 4,
     "metadata": {},
     "output_type": "execute_result"
    }
   ],
   "source": [
    "car = pd.read_csv('./数据集/2002年-2018年上海机动车拍照拍卖.csv')\n",
    "car.head()"
   ]
  },
  {
   "cell_type": "markdown",
   "metadata": {},
   "source": [
    "### 问题\n",
    "\n",
    "#### (1) 哪一次拍卖的中标率首次小于 5%？"
   ]
  },
  {
   "cell_type": "code",
   "execution_count": 39,
   "metadata": {},
   "outputs": [
    {
     "data": {
      "text/plain": [
       "'16-Mar'"
      ]
     },
     "execution_count": 39,
     "metadata": {},
     "output_type": "execute_result"
    }
   ],
   "source": [
    "car['chance_bidding'] = car['Total number of license issued'] / car['Total number of applicants']\n",
    "car.sort_values('chance_bidding')['Date'].iloc[0]"
   ]
  },
  {
   "cell_type": "markdown",
   "metadata": {},
   "source": [
    "#### (2) 按年统计拍卖最低价的下列统计量：最大值、均值、0.75 分位数，要求 显示在同一张表上。"
   ]
  },
  {
   "cell_type": "code",
   "execution_count": null,
   "metadata": {},
   "outputs": [],
   "source": []
  },
  {
   "cell_type": "markdown",
   "metadata": {},
   "source": [
    "#### (3) 将第一列时间列拆分成两个列，一列为年份（格式为 20××），另一列为 月份（英语缩写），添加到列表作为第一第二列，并将原表第一列删除， 其他列依次向后顺延。\n",
    "\n",
    "#### (4) 现在将表格行索引设为多级索引，外层为年份，内层为原表格第二至第 五列的变量名，列索引为月份。\n",
    "\n",
    "#### (5) 一般而言某个月最低价与上月最低价的差额，会与该月均值与上月均值 的差额具有相同的正负号，哪些拍卖时间不具有这个特点？\n",
    "\n",
    "#### (6) 将某一个月牌照发行量与其前两个月发行量均值的差额定义为发行增 益，最初的两个月用 0 填充，求发行增益极值出现的时间。"
   ]
  },
  {
   "cell_type": "markdown",
   "metadata": {},
   "source": [
    "## 二、2007 年-2019 年俄罗斯机场货运航班运载量\n",
    "\n",
    "### 问题\n",
    "\n",
    "#### (1) 求每年货运航班总运量。\n",
    "\n",
    "#### (2) 每年记录的机场都是相同的吗？\n",
    "\n",
    "#### (3) 按年计算 2010 年-2015 年全年货运量记录为 0 的机场航班比例。\n",
    "\n",
    "#### (4) 若某机场至少存在 5 年或以上满足所有月运量记录都为 0，则将其所有 年份的记录信息从表中删除，并返回处理后的表格\n",
    "\n",
    "#### (5) 采用一种合理的方式将所有机场划分为东南西北四个分区，并给出 2017 年-2019 年货运总量最大的区域。\n",
    "\n",
    "#### (6) 在统计学中常常用秩代表排名，现在规定某个机场某年某个月的秩为该 机场该月在当年所有月份中货运量的排名（例如 *** 机场 19 年 1 月运 量在整个 19 年 12 个月中排名第一，则秩为 1），那么判断某月运量情 况的相对大小的秩方法为将所有机场在该月的秩排名相加，并将这个量 定义为每一个月的秩综合指数，请根据上述定义计算 2016 年 12 个月 的秩综合指数。"
   ]
  },
  {
   "cell_type": "markdown",
   "metadata": {},
   "source": [
    "## 三、新冠肺炎在美国的传播\n",
    "\n",
    "### 问题\n",
    "\n",
    "#### (1) 用 corr() 函数计算县（每行都是一个县）人口与表中最后一天记录日期 死亡数的相关系数。\n",
    "\n",
    "#### (2) 截止到 4 月 1 日，统计每个州零感染县的比例。\n",
    "\n",
    "#### (3) 请找出最早出确证病例的三个县。\n",
    "\n",
    "#### (4) 按州统计单日死亡增加数，并给出哪个州在哪一天确诊数增加最大（这 里指的是在所有州和所有天两个指标一起算，不是分别算）。\n",
    "\n",
    "#### (5) 现需对每个州编制确证与死亡表，第一列为时间，并且起始时间为该州 开始出现死亡比例的那一天，第二列和第三列分别为确证数和死亡数， 每个州需要保存为一个单独的 csv 文件，文件名为“州名.csv”。\n",
    "\n",
    "#### (6) 现需对 4 月 1 日至 4 月 10 日编制新增确证数与新增死亡数表，第一列 为州名，第二列和第三列分别为新增确证数和新增死亡数，分别保存为 十个单独的 csv 文件，文件名为“日期.csv”。"
   ]
  }
 ],
 "metadata": {
  "kernelspec": {
   "display_name": "Python 3",
   "language": "python",
   "name": "python3"
  },
  "language_info": {
   "codemirror_mode": {
    "name": "ipython",
    "version": 3
   },
   "file_extension": ".py",
   "mimetype": "text/x-python",
   "name": "python",
   "nbconvert_exporter": "python",
   "pygments_lexer": "ipython3",
   "version": "3.7.6"
  }
 },
 "nbformat": 4,
 "nbformat_minor": 4
}
